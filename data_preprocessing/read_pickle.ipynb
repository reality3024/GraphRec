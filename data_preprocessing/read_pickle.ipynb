{
  "nbformat": 4,
  "nbformat_minor": 0,
  "metadata": {
    "colab": {
      "provenance": [],
      "toc_visible": true
    },
    "kernelspec": {
      "name": "python3",
      "display_name": "Python 3"
    },
    "language_info": {
      "name": "python"
    }
  },
  "cells": [
    {
      "cell_type": "code",
      "execution_count": null,
      "metadata": {
        "colab": {
          "base_uri": "https://localhost:8080/"
        },
        "id": "q0NEQDIWJfgw",
        "outputId": "fd5d13c3-c654-4d2c-b8d8-137cfb290b67"
      },
      "outputs": [
        {
          "output_type": "stream",
          "name": "stdout",
          "text": [
            "Drive already mounted at /content/drive; to attempt to forcibly remount, call drive.mount(\"/content/drive\", force_remount=True).\n"
          ]
        }
      ],
      "source": [
        "from google.colab import drive\n",
        "drive.mount('/content/drive')"
      ]
    },
    {
      "cell_type": "code",
      "source": [
        "%cd /content/drive/MyDrive"
      ],
      "metadata": {
        "colab": {
          "base_uri": "https://localhost:8080/"
        },
        "id": "WktlDOaLJvlp",
        "outputId": "a185b7fc-d86d-4bcb-8fbd-972ded5834b6"
      },
      "execution_count": null,
      "outputs": [
        {
          "output_type": "stream",
          "name": "stdout",
          "text": [
            "/content/drive/MyDrive\n"
          ]
        }
      ]
    },
    {
      "cell_type": "code",
      "source": [
        "import pickle\n",
        "import os"
      ],
      "metadata": {
        "id": "CfiHlzZDKCeG"
      },
      "execution_count": null,
      "outputs": []
    },
    {
      "cell_type": "code",
      "source": [
        "def read_pickle_file(file_path):\n",
        "    \"\"\"\n",
        "    Read a pickle file and return its contents\n",
        "    \"\"\"\n",
        "    with open(file_path, 'rb') as f:\n",
        "        data = pickle.load(f)\n",
        "    return data"
      ],
      "metadata": {
        "id": "BwHuMGkvJ8UG"
      },
      "execution_count": null,
      "outputs": []
    },
    {
      "cell_type": "code",
      "source": [
        "def create_pickle_file(data, file_path):\n",
        "    \"\"\"\n",
        "    Create a new pickle file with the given data\n",
        "    \"\"\"\n",
        "    with open(file_path, 'wb') as f:\n",
        "        pickle.dump(data, f)"
      ],
      "metadata": {
        "id": "km-hTWhvJ9-Z"
      },
      "execution_count": null,
      "outputs": []
    },
    {
      "cell_type": "code",
      "source": [
        "# Example: Reading the toy dataset\n",
        "# toy_dataset_path = './Epinions/dataset_Epinions.pickle'\n",
        "toy_dataset_path = './Epinions/toy_dataset.pickle'\n",
        "if os.path.exists(toy_dataset_path):\n",
        "    print(\"Reading toy dataset...\")\n",
        "    data = read_pickle_file(toy_dataset_path)\n",
        "\n",
        "    # The data contains these components (as seen in run_GraphRec_example.py):\n",
        "    history_u_lists, history_ur_lists, history_v_lists, history_vr_lists, \\\n",
        "    train_u, train_v, train_r, test_u, test_v, test_r, \\\n",
        "    social_adj_lists, ratings_list = data\n",
        "\n",
        "    # Print some basic information about the dataset\n",
        "    print(f\"Number of users: {len(history_u_lists)}\")\n",
        "    print(f\"Number of items: {len(history_v_lists)}\")\n",
        "    print(f\"Number of training samples: {len(train_u)}\")\n",
        "    print(f\"Number of test samples: {len(test_u)}\")\n",
        "    print(f\"Possible ratings: {ratings_list}\")\n",
        "\n",
        "    # Example: Creating a new pickle file\n",
        "    # This is just an example - you would replace this with your actual data\n",
        "    example_data = {\n",
        "        'history_u_lists': history_u_lists,\n",
        "        'history_ur_lists': history_ur_lists,\n",
        "        'history_v_lists': history_v_lists,\n",
        "        'history_vr_lists': history_vr_lists,\n",
        "        'train_u': train_u,\n",
        "        'train_v': train_v,\n",
        "        'train_r': train_r,\n",
        "        'test_u': test_u,\n",
        "        'test_v': test_v,\n",
        "        'test_r': test_r,\n",
        "        'social_adj_lists': social_adj_lists,\n",
        "        'ratings_list': ratings_list\n",
        "    }\n",
        "    # # print(f'example_data: {example_data}')\n",
        "\n",
        "    # # Save the example data to a new pickle file\n",
        "    # new_file_path = './data/example_dataset.pickle'\n",
        "    # create_pickle_file(example_data, new_file_path)\n",
        "    # print(f\"\\nCreated new pickle file at: {new_file_path}\")\n",
        "\n",
        "    # # Verify the new file can be read\n",
        "    # print(\"\\nReading the newly created pickle file...\")\n",
        "    # new_data = read_pickle_file(new_file_path)\n",
        "    # print(\"Successfully read the new pickle file!\")"
      ],
      "metadata": {
        "colab": {
          "base_uri": "https://localhost:8080/"
        },
        "id": "43qdKFmGKArH",
        "outputId": "06c08cc3-bc65-4a4b-8079-9e0d71afc5b0"
      },
      "execution_count": null,
      "outputs": [
        {
          "output_type": "stream",
          "name": "stdout",
          "text": [
            "Reading toy dataset...\n",
            "Number of users: 705\n",
            "Number of items: 1941\n",
            "Number of training samples: 14091\n",
            "Number of test samples: 3733\n",
            "Possible ratings: {2.0: 0, 1.0: 1, 3.0: 2, 4.0: 3, 2.5: 4, 3.5: 5, 1.5: 6, 0.5: 7}\n"
          ]
        }
      ]
    },
    {
      "cell_type": "code",
      "source": [
        "# This is a dictionary where each key is a user ID and the value is a list of items\n",
        "# that user has purchased/interacted with in the training set.\n",
        "# Example: User 681 has interacted with items [0, 156, 267, 24, ...]\n",
        "# This represents the purchase history of each user\n",
        "count = 0\n",
        "for key, value in history_u_lists.items():\n",
        "    print(f\"{key}: {value}\")\n",
        "    count += 1\n",
        "    if count == 5:\n",
        "      break"
      ],
      "metadata": {
        "colab": {
          "base_uri": "https://localhost:8080/"
        },
        "id": "ug_62MKvKX9x",
        "outputId": "a69f6a21-417c-4d97-eb2b-9acd0fd1caac"
      },
      "execution_count": null,
      "outputs": [
        {
          "output_type": "stream",
          "name": "stdout",
          "text": [
            "1: [1, 2, 3, 4, 5, 6, 7, 8, 9, 10]\n",
            "2: [11, 12, 13, 14, 15, 16, 1, 17, 18, 19, 20, 21, 22, 23, 24, 25, 26, 27, 28, 29, 30, 31, 32, 33, 34, 35, 36, 37, 38, 39, 40, 41]\n",
            "3: [42, 43, 44, 45, 46, 47, 48, 49, 50, 51, 52, 53, 54, 55, 56, 57]\n",
            "4: [58, 59, 60, 61, 62, 63, 64, 65, 66, 67, 68, 65, 69, 70, 71]\n",
            "5: [72, 73, 74, 75, 76, 77, 78, 79, 80, 81, 82, 83]\n"
          ]
        }
      ]
    },
    {
      "cell_type": "code",
      "source": [
        "# This is a dictionary where each key is a user ID and\n",
        "# the value is a list of ratings corresponding to the items in history_u_lists.\n",
        "# Example: User 681's ratings for those items are [0, 2, 2, ...]\n",
        "# These ratings are indices that map to actual rating values through ratings_list\n",
        "count = 0\n",
        "for key, value in history_ur_lists.items():\n",
        "    print(f\"{key}: {value}\")\n",
        "    count += 1\n",
        "    if count == 5:\n",
        "      break\n",
        "print(type(history_ur_lists))"
      ],
      "metadata": {
        "colab": {
          "base_uri": "https://localhost:8080/"
        },
        "id": "m9L49U8cLbFG",
        "outputId": "760c8c40-8f6b-4717-8a5c-48a3681f5e92"
      },
      "execution_count": null,
      "outputs": [
        {
          "output_type": "stream",
          "name": "stdout",
          "text": [
            "1: [2, 2, 2, 5, 3, 4, 1, 4, 4, 1]\n",
            "2: [3, 4, 3, 5, 5, 4, 4, 5, 5, 5, 1, 5, 3, 1, 5, 5, 3, 5, 4, 2, 4, 5, 5, 1, 4, 5, 3, 5, 1, 3, 2, 4]\n",
            "3: [5, 4, 5, 5, 4, 4, 5, 2, 5, 4, 4, 5, 3, 5, 5, 4]\n",
            "4: [4, 4, 2, 5, 4, 3, 4, 4, 4, 5, 3, 5, 3, 4, 3]\n",
            "5: [4, 5, 4, 4, 5, 5, 5, 4, 5, 5, 5, 2]\n",
            "<class 'collections.defaultdict'>\n"
          ]
        }
      ]
    },
    {
      "cell_type": "code",
      "source": [
        "# This is a dictionary where each key is an item ID and the value is a list of users\n",
        "# who have interacted with that item in the training set.\n",
        "# Example: Item 0 has been interacted with by users [681, 48, 577, ...]\n",
        "# This represents the user base for each item\n",
        "count = 0\n",
        "for key, value in history_v_lists.items():\n",
        "    print(f\"{key}: {value}\")\n",
        "    count += 1\n",
        "    if count == 5:\n",
        "      break\n",
        "print(type(history_v_lists))"
      ],
      "metadata": {
        "colab": {
          "base_uri": "https://localhost:8080/"
        },
        "id": "z8ZqBI7G7ny5",
        "outputId": "a83bdb63-915a-4100-dc86-8943f7b00664"
      },
      "execution_count": null,
      "outputs": [
        {
          "output_type": "stream",
          "name": "stdout",
          "text": [
            "1: [1, 2, 41, 61, 420, 429, 482, 491, 533, 561, 649, 668, 798, 829, 894, 977, 997, 1018, 1086, 1107, 1174, 1248, 1338, 1426, 1444, 1506, 1580, 1836, 1875, 1913, 1943, 1992, 2014, 2057, 2125, 2456, 2648, 2667, 2691, 2884, 3042, 3074, 3151, 3175, 3202, 3252, 3286, 3306, 3307, 3371, 3373, 3374, 3421, 3532, 3636, 3637, 3667, 3699, 3750, 3883, 3978, 4086, 4111, 4204, 4232, 4311, 4409, 4763, 4822, 4903, 4953, 5104, 5290, 5472, 5642, 6173, 6204, 6303, 6388, 6431, 6476, 6561, 6620, 6621, 6666, 6691, 6702, 6715, 6722, 6728, 6732, 6798, 6818, 6832, 6894, 7122, 7196, 7241, 7325, 7436, 7501, 7701, 7766, 7793, 7856, 7981, 8034, 8127, 8169, 8186, 8297, 8771, 8822, 8854, 8854, 8857, 8891, 8918, 9092, 9144, 9282, 9284, 9304, 9367, 9376, 9471, 9483, 9554, 9732, 9979, 9997, 10019, 10057, 10140, 10167, 10183, 10243, 10263, 10393, 10480, 10620, 10695, 10909, 10911, 11053, 11084, 11097, 11316, 11416, 11601, 11657, 11659, 11995, 11998, 12095, 12216, 12227, 12244, 12407, 12482, 12521, 12626, 12886, 12950, 13073, 13239, 13243, 13273, 13401, 13468, 13561, 13588, 13592, 13608, 13649, 13675, 13714, 13944, 13962, 14067, 14110, 14121, 14209, 14236, 14270, 14489, 14567, 14594, 14603, 14611, 14842, 14876, 14895, 14982, 15103, 15132, 15356, 15390, 15445, 15501, 15552, 15591, 15592, 15613, 15656, 15827, 15838, 15844, 15984, 15998, 16012, 16014, 16028, 16089, 16135, 16143, 16185, 16262, 16314, 16473, 16789, 16808, 16892, 16904, 17167, 17231, 17242, 17328, 17401, 17460, 17512, 17583, 17743, 17746, 17759, 17765, 17795, 17846, 17981, 18318, 18455, 18528, 18637, 18705, 18721, 18802, 18871, 19006, 19032, 19243, 19471, 19493, 19581, 19596, 19647, 19704, 19824, 20189, 20191, 20225, 20241, 20286, 20415, 20415, 20416, 20482, 20554, 20806, 20911, 21246, 21277, 21319, 21481, 21517, 21619, 21694, 21724, 21810, 21830, 21855, 22078, 22113]\n",
            "2: [1, 36, 174, 562, 840, 1196, 1266, 1342, 1351, 1403, 1729, 2201, 2525, 2564, 2577, 2652, 2779, 3067, 3326, 3334, 3446, 3615, 3626, 3906, 3906, 3939, 4031, 4057, 4138, 4292, 4330, 4466, 4680, 4938, 4961, 4977, 5113, 5343, 5482, 5646, 5754, 5770, 5828, 5843, 5912, 5939, 6185, 6245, 6253, 6294, 6326, 6412, 6664, 6752, 6764, 6923, 7030, 7097, 7145, 7148, 7216, 7468, 7525, 7618, 7690, 7692, 8419, 8495, 8803, 8810, 8925, 9054, 9113, 9432, 9729, 9789, 9872, 9898, 10008, 10097, 10138, 10233, 10329, 10973, 10985, 11207, 11353, 11505, 11600, 11801, 12085, 12107, 12146, 12181, 12322, 12647, 12653, 12807, 12953, 13283, 13812, 14049, 14401, 14491, 14580, 14854, 14937, 15174, 15247, 15307, 15338, 15463, 15689, 15769, 15844, 15881, 15933, 16104, 16120, 16276, 16360, 16416, 16628, 16679, 16829, 16868, 17066, 17131, 17485, 17634, 17701, 17719, 17853, 17880, 17896, 17998, 18410, 18445, 18465, 18581, 18738, 18870, 19006, 19120, 19177, 19288, 19429, 19430, 19523, 19633, 19892, 19923, 20071, 20098, 20123, 20125, 20191, 20349, 20416, 20434, 20467, 20662, 20665, 20823, 21107, 21240, 21241, 21546, 21790, 21801, 22012]\n",
            "3: [1, 798, 829, 1189, 1426, 1859, 2142, 2195, 2710, 3307, 3313, 3374, 3907, 4030, 4114, 4475, 6303, 7325, 8100, 9598, 10120, 10387, 11215, 12298, 12521, 13290, 14329, 14400, 15464, 15827, 15971, 16565, 17175, 17410, 18081, 18841, 18935, 19220, 20998, 21942]\n",
            "4: [1, 330, 561, 847, 1181, 1680, 2142, 2742, 2892, 3446, 3505, 3944, 4285, 4378, 5086, 5490, 5852, 5885, 6343, 6708, 7674, 7987, 8127, 8142, 8857, 8976, 9282, 9495, 9960, 10057, 10085, 10150, 10380, 10634, 11613, 11875, 13650, 14681, 15390, 15497, 15668, 16613, 17907, 18121, 18637, 18841, 19086, 19125, 19471, 19482, 19581, 19596, 19655, 20225, 20427, 20433, 21717, 21728, 21862, 22076]\n",
            "5: [1, 829, 961, 1426, 1608, 2050, 2090, 2882, 3061, 3205, 3240, 3374, 3609, 3905, 4253, 4357, 4547, 4966, 5183, 5457, 5503, 5649, 5846, 6691, 6837, 7701, 7846, 7909, 8040, 8094, 8970, 8976, 9236, 9282, 9284, 9664, 9733, 9923, 9997, 10190, 10457, 10661, 10909, 10984, 11025, 11307, 11722, 11875, 12107, 12246, 12250, 12943, 13003, 13675, 13924, 14567, 14975, 14982, 15445, 15668, 15878, 15984, 17039, 17110, 17759, 17765, 18386, 18637, 19086, 19471, 20241, 20489, 20979, 21089, 21276, 21807, 21884]\n",
            "<class 'collections.defaultdict'>\n"
          ]
        }
      ]
    },
    {
      "cell_type": "code",
      "source": [
        "# This is a dictionary where each key is an item ID and the value is a list of ratings given by the users in history_v_lists.\n",
        "# Example: Item 0's ratings from those users are [0, 2, 4, 6, ...]\n",
        "# These are also indices that map to actual rating values\n",
        "count = 0\n",
        "for key, value in history_vr_lists.items():\n",
        "    print(f\"{key}: {value}\")\n",
        "    count += 1\n",
        "    if count == 5:\n",
        "      break"
      ],
      "metadata": {
        "colab": {
          "base_uri": "https://localhost:8080/"
        },
        "id": "M5YHQfyB8DhE",
        "outputId": "e3ce22fd-783d-4c65-d5b1-7cda435f2dae"
      },
      "execution_count": null,
      "outputs": [
        {
          "output_type": "stream",
          "name": "stdout",
          "text": [
            "1: [2, 4, 5, 2, 4, 4, 4, 1, 4, 2, 3, 1, 3, 3, 3, 3, 4, 5, 4, 5, 3, 3, 5, 2, 5, 4, 3, 5, 4, 3, 1, 3, 4, 3, 4, 4, 1, 4, 3, 2, 5, 1, 4, 5, 4, 4, 4, 3, 3, 5, 1, 4, 2, 2, 3, 4, 5, 4, 4, 5, 4, 5, 4, 3, 4, 4, 4, 2, 3, 5, 3, 5, 4, 4, 3, 3, 5, 4, 1, 4, 3, 5, 3, 3, 2, 4, 5, 4, 3, 5, 3, 5, 2, 4, 2, 3, 2, 5, 4, 4, 4, 3, 2, 5, 3, 5, 5, 2, 1, 5, 4, 2, 5, 5, 5, 4, 3, 2, 4, 5, 4, 1, 3, 5, 2, 3, 2, 4, 4, 3, 3, 5, 2, 3, 1, 5, 4, 2, 3, 4, 4, 2, 4, 4, 5, 4, 3, 4, 4, 5, 4, 3, 5, 5, 5, 3, 2, 4, 4, 4, 4, 4, 3, 1, 3, 3, 5, 3, 1, 5, 3, 5, 3, 5, 4, 1, 4, 1, 1, 4, 4, 3, 2, 3, 1, 3, 1, 4, 3, 1, 4, 2, 2, 3, 5, 2, 5, 4, 4, 5, 5, 5, 5, 5, 4, 4, 3, 4, 1, 2, 4, 4, 3, 5, 4, 3, 3, 3, 5, 4, 4, 5, 4, 5, 4, 3, 4, 4, 4, 1, 4, 5, 2, 4, 1, 4, 3, 4, 5, 3, 2, 4, 3, 4, 2, 2, 4, 4, 4, 2, 3, 3, 5, 4, 4, 4, 4, 3, 3, 3, 1, 3, 2, 2, 2, 5, 5, 2, 4, 2, 4, 4, 3, 5, 1, 1, 4, 4, 3, 5, 3, 5]\n",
            "2: [2, 5, 5, 5, 5, 2, 5, 5, 5, 5, 5, 5, 4, 5, 3, 5, 5, 5, 5, 5, 5, 5, 5, 5, 5, 5, 5, 5, 5, 5, 5, 5, 5, 5, 5, 2, 5, 5, 5, 5, 5, 5, 5, 5, 5, 5, 5, 5, 5, 5, 5, 4, 4, 4, 4, 5, 3, 5, 5, 5, 5, 5, 5, 5, 5, 5, 5, 5, 5, 5, 5, 3, 5, 5, 5, 4, 4, 5, 5, 5, 5, 5, 5, 5, 5, 5, 5, 4, 4, 5, 5, 4, 3, 4, 5, 5, 5, 5, 3, 4, 4, 5, 5, 5, 5, 5, 5, 5, 5, 5, 5, 5, 5, 5, 5, 5, 5, 4, 5, 5, 5, 5, 5, 5, 5, 5, 5, 5, 5, 5, 5, 5, 4, 5, 5, 4, 5, 5, 5, 4, 3, 5, 5, 5, 5, 5, 5, 5, 5, 5, 5, 5, 5, 5, 5, 5, 5, 5, 5, 5, 5, 5, 5, 5, 5, 3, 5, 5, 1, 5, 5]\n",
            "3: [2, 3, 3, 2, 2, 5, 1, 5, 1, 1, 4, 2, 1, 5, 2, 2, 1, 3, 5, 4, 4, 3, 1, 1, 2, 1, 2, 2, 1, 3, 1, 4, 4, 2, 4, 2, 1, 3, 1, 4]\n",
            "4: [5, 4, 1, 5, 5, 4, 5, 4, 4, 5, 3, 4, 2, 2, 4, 2, 3, 4, 4, 1, 1, 5, 4, 5, 4, 3, 4, 1, 5, 1, 5, 3, 4, 4, 1, 5, 1, 2, 3, 2, 5, 5, 1, 4, 2, 3, 3, 3, 1, 4, 4, 4, 3, 3, 2, 5, 5, 4, 3, 3]\n",
            "5: [3, 2, 4, 2, 3, 3, 2, 4, 3, 5, 5, 4, 3, 1, 4, 3, 3, 5, 3, 1, 4, 4, 4, 3, 4, 3, 1, 4, 1, 3, 1, 2, 1, 3, 3, 3, 5, 4, 3, 4, 4, 4, 4, 5, 3, 2, 4, 4, 3, 4, 3, 4, 4, 4, 3, 4, 1, 5, 3, 4, 1, 3, 5, 1, 4, 1, 4, 3, 4, 3, 1, 2, 5, 2, 1, 4, 1]\n"
          ]
        }
      ]
    },
    {
      "cell_type": "code",
      "source": [
        "# train_u, train_v, train_r: training_set (user, item, rating)\n",
        "# Example: User 681 rated item 0 with rating 2.0\n",
        "print(train_u[:5])\n",
        "print(train_v[:5])\n",
        "print(train_r[:5])"
      ],
      "metadata": {
        "colab": {
          "base_uri": "https://localhost:8080/"
        },
        "id": "py_SKAC08qNR",
        "outputId": "c48770d1-5dea-4f68-ff94-e82aeb19f8ff"
      },
      "execution_count": null,
      "outputs": [
        {
          "output_type": "stream",
          "name": "stdout",
          "text": [
            "[20996, 9259, 13185, 13336, 12955]\n",
            "[18507, 14288, 378, 1864, 84621]\n",
            "[3.0, 4.0, 5.0, 5.0, 4.0]\n"
          ]
        }
      ]
    },
    {
      "cell_type": "code",
      "source": [
        "# test_u, test_v, test_r: testing set (user, item, rating)\n",
        "# Example: User 262 rated item 8 with rating 4.0\n",
        "print(test_u[:5])\n",
        "print(test_v[:5])\n",
        "print(test_r[:5])\n",
        "type(test_r)"
      ],
      "metadata": {
        "colab": {
          "base_uri": "https://localhost:8080/"
        },
        "id": "sIC1rxLkP0GK",
        "outputId": "2fe7b674-9d77-4bcb-9078-ed7aaf974e78"
      },
      "execution_count": null,
      "outputs": [
        {
          "output_type": "stream",
          "name": "stdout",
          "text": [
            "[16289, 842, 5322, 15931, 11046]\n",
            "[202281, 9364, 4472, 34349, 179]\n",
            "[5.0, 4.0, 4.0, 5.0, 4.0]\n"
          ]
        },
        {
          "output_type": "execute_result",
          "data": {
            "text/plain": [
              "list"
            ]
          },
          "metadata": {},
          "execution_count": 106
        }
      ]
    },
    {
      "cell_type": "code",
      "source": [
        "# This is a dictionary representing the social network connections between users\n",
        "# Each key is a user ID and the value is a set of user IDs they are connected to\n",
        "# Example: User 0 is connected to users 1 and 2\n",
        "# This represents the social graph used for social recommendation\n",
        "count = 0\n",
        "for key, value in social_adj_lists.items():\n",
        "    print(f\"{key}: {value}\")\n",
        "    count += 1\n",
        "    if count == 5:\n",
        "      break\n",
        "print(type(social_adj_lists))"
      ],
      "metadata": {
        "colab": {
          "base_uri": "https://localhost:8080/"
        },
        "id": "_oMm5okdDNLV",
        "outputId": "5cc7fb4c-9402-4c44-f98a-f2ff65327506"
      },
      "execution_count": null,
      "outputs": [
        {
          "output_type": "stream",
          "name": "stdout",
          "text": [
            "2: {6339, 3463, 7336, 7659, 4114, 14226, 14613, 21911, 19483, 829, 20190}\n",
            "4: {1110}\n",
            "5: {13568, 19393, 12292, 2117, 1927, 6121, 4076, 16109, 7807, 14865, 14292, 11261, 13567}\n",
            "7: {4058, 5052}\n",
            "8: {12648, 20643, 21480}\n",
            "<class 'dict'>\n"
          ]
        }
      ]
    },
    {
      "cell_type": "code",
      "source": [
        "# This is a dictionary mapping rating values to indices.\n",
        "# Example: Rating 2.0 maps to index 0, rating 1.0 maps to index 1, etc.\n",
        "# This is used to convert between actual rating values and their index representations in the model (rating_list correspond to this, 0 represent 2.0, 1 represent 1.0 etc.)\n",
        "for key, value in ratings_list.items():\n",
        "    print(f\"{key}: {value}\")\n",
        "print(type(ratings_list))"
      ],
      "metadata": {
        "colab": {
          "base_uri": "https://localhost:8080/"
        },
        "id": "cSKlnHDWFh2A",
        "outputId": "838f80a7-91f0-49f4-c5b6-93f98da8e29d"
      },
      "execution_count": null,
      "outputs": [
        {
          "output_type": "stream",
          "name": "stdout",
          "text": [
            "2.0: 0\n",
            "1.0: 1\n",
            "3.0: 2\n",
            "4.0: 3\n",
            "2.5: 4\n",
            "3.5: 5\n",
            "1.5: 6\n",
            "0.5: 7\n",
            "<class 'dict'>\n"
          ]
        }
      ]
    }
  ]
}